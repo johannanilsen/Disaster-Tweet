{
  "nbformat": 4,
  "nbformat_minor": 0,
  "metadata": {
    "colab": {
      "name": "DisasterTweet.ipynb",
      "provenance": [],
      "collapsed_sections": [
        "FuAcIm1vFpLg",
        "hjnv-bXTJSiD",
        "jB380_xCP8iZ",
        "5dc2szxKHGWY",
        "NXA7G-PpHLVl",
        "sOHQ_GseHRAf",
        "8e1ko5_QwM5u",
        "tCiKbOdkn4aj",
        "KwKGYSwPn7VX",
        "x1r9zoRxn_Vp",
        "nXWfFKLUoLGp"
      ]
    },
    "kernelspec": {
      "name": "python3",
      "display_name": "Python 3"
    }
  },
  "cells": [
    {
      "cell_type": "markdown",
      "metadata": {
        "id": "jV_rse1m1mqV",
        "colab_type": "text"
      },
      "source": [
        "# **Disaster Tweet Classifier**"
      ]
    },
    {
      "cell_type": "markdown",
      "metadata": {
        "id": "dwOGvHMJFJ5q",
        "colab_type": "text"
      },
      "source": [
        "## **Imports**"
      ]
    },
    {
      "cell_type": "code",
      "metadata": {
        "id": "3AlZhUIrFIPD",
        "colab_type": "code",
        "outputId": "25be2f86-6812-4e98-a41c-2ada15ecfbcb",
        "colab": {
          "base_uri": "https://localhost:8080/",
          "height": 68
        }
      },
      "source": [
        "import string\n",
        "import pandas as pd\n",
        "import numpy as np\n",
        "import nltk\n",
        "import heapq\n",
        "import re\n",
        "from wordcloud import WordCloud\n",
        "import seaborn as sns\n",
        "import csv\n",
        "import matplotlib.pyplot as plt\n",
        "\n",
        "from nltk.corpus import stopwords\n",
        "from nltk.classify import SklearnClassifier\n",
        "from nltk.stem import PorterStemmer\n",
        "from nltk import FreqDist \n",
        "from nltk.stem.porter import *\n",
        "nltk.download('stopwords')\n",
        "from nltk.stem.wordnet import WordNetLemmatizer\n",
        "from nltk.tokenize import word_tokenize \n",
        "from collections import defaultdict\n",
        "\n",
        "from plotly import tools\n",
        "import plotly.offline as py\n",
        "import plotly.figure_factory as ff\n",
        "import plotly.graph_objs as go\n",
        "\n",
        "from sklearn import feature_extraction, linear_model, model_selection, preprocessing\n",
        "from sklearn.model_selection import train_test_split, cross_val_score, KFold\n",
        "from sklearn.feature_extraction.text import CountVectorizer, TfidfTransformer\n",
        "from sklearn.linear_model import LogisticRegression\n",
        "from sklearn.metrics import classification_report, confusion_matrix, accuracy_score\n",
        "from sklearn.naive_bayes import GaussianNB, CategoricalNB \n",
        "from sklearn.neighbors import KNeighborsClassifier\n",
        "from sklearn.ensemble import RandomForestClassifier\n",
        "from sklearn.feature_selection import SelectKBest, chi2\n",
        "from sklearn import preprocessing\n",
        "\n",
        "\n",
        "!pip install -U -q PyDrive\n",
        "from pydrive.auth import GoogleAuth\n",
        "from pydrive.drive import GoogleDrive\n",
        "from google.colab import auth\n",
        "from oauth2client.client import GoogleCredentials\n",
        "\n",
        "!pip install pyspellchecker\n",
        "from spellchecker import SpellChecker\n",
        "\n",
        "stop_words = set(stopwords.words('english')) "
      ],
      "execution_count": 93,
      "outputs": [
        {
          "output_type": "stream",
          "text": [
            "[nltk_data] Downloading package stopwords to /root/nltk_data...\n",
            "[nltk_data]   Package stopwords is already up-to-date!\n",
            "Requirement already satisfied: pyspellchecker in /usr/local/lib/python3.6/dist-packages (0.5.4)\n"
          ],
          "name": "stdout"
        }
      ]
    },
    {
      "cell_type": "markdown",
      "metadata": {
        "id": "9WdFYNLtlnGb",
        "colab_type": "text"
      },
      "source": [
        "## **Downloading dataset from Drive**"
      ]
    },
    {
      "cell_type": "code",
      "metadata": {
        "id": "JyK82rrCWQ2c",
        "colab_type": "code",
        "colab": {}
      },
      "source": [
        "auth.authenticate_user()\n",
        "gauth = GoogleAuth()\n",
        "gauth.credentials = GoogleCredentials.get_application_default()\n",
        "drive = GoogleDrive(gauth)\n",
        "\n",
        "downloaded = drive.CreateFile({'id':'1HV2l5C-MJx3HqReEjkeW2hFPqiOoRcvg'}) \n",
        "downloaded.GetContentFile('train.csv')  \n",
        "train_data_csv = pd.read_csv('train.csv')\n",
        "\n",
        "train_df = pd.DataFrame(train_data_csv)"
      ],
      "execution_count": 0,
      "outputs": []
    },
    {
      "cell_type": "markdown",
      "metadata": {
        "id": "FuAcIm1vFpLg",
        "colab_type": "text"
      },
      "source": [
        "## **Exploratory Data Analysis (EDA) of tweets**"
      ]
    },
    {
      "cell_type": "markdown",
      "metadata": {
        "id": "hjnv-bXTJSiD",
        "colab_type": "text"
      },
      "source": [
        "###**The distrubition of the two classes 0 and 1**"
      ]
    },
    {
      "cell_type": "code",
      "metadata": {
        "id": "OrkxEONeJKAc",
        "colab_type": "code",
        "outputId": "ab2f674a-19d0-4e16-a30e-922cc1941973",
        "colab": {
          "base_uri": "https://localhost:8080/"
        }
      },
      "source": [
        "x=train_df.target.value_counts()\n",
        "\n",
        "fig, ax = plt.subplots()\n",
        "sns.barplot(x.index,x, palette=['pink', 'skyblue'])\n",
        "ax.set_ylabel('Number of tweets')\n",
        "ax.set_xticklabels([\"Non disaster\",'Disaster'])\n",
        "\n",
        "print('Percentage of non disaster tweets:',round(sum(train_df['target']==0)/len(train_df)*100,1),'%')\n",
        "print('\\nPercentage of disaster tweets:',round(sum(train_df['target']==1)/len(train_df),2)*100,'%\\n')"
      ],
      "execution_count": 0,
      "outputs": [
        {
          "output_type": "stream",
          "text": [
            "Percentage of non disaster tweets: 57.0 %\n",
            "\n",
            "Percentage of disaster tweets: 43.0 %\n",
            "\n"
          ],
          "name": "stdout"
        },
        {
          "output_type": "display_data",
          "data": {
            "image/png": "[encoded data removed]",
            "text/plain": [
              "<Figure size 432x288 with 1 Axes>"
            ]
          },
          "metadata": {
            "tags": []
          }
        }
      ]
    },
    {
      "cell_type": "markdown",
      "metadata": {
        "id": "vf759pEJNzVn",
        "colab_type": "text"
      },
      "source": [
        "Conclusion: There is more non-disaster tweets than disaster tweets. "
      ]
    },
    {
      "cell_type": "markdown",
      "metadata": {
        "id": "VKLmesBEQ3GT",
        "colab_type": "text"
      },
      "source": [
        "###**Analyzing the words in the tweets**"
      ]
    },
    {
      "cell_type": "markdown",
      "metadata": {
        "id": "pLNb0KUgF8sy",
        "colab_type": "text"
      },
      "source": [
        "####**Number of characters in tweets**"
      ]
    },
    {
      "cell_type": "code",
      "metadata": {
        "id": "-6hmfx3FFtPo",
        "colab_type": "code",
        "outputId": "b982e4bf-499f-49b6-8502-3cd92707a9b2",
        "colab": {
          "base_uri": "https://localhost:8080/"
        }
      },
      "source": [
        "fig,(ax1,ax2)=plt.subplots(1,2,figsize=(10,5))\n",
        "\n",
        "tweet_len=train_df[train_df['target']==0]['text'].str.len()\n",
        "ax1.hist(tweet_len,color='pink')\n",
        "ax1.set_title('Not disaster tweets')\n",
        "tweet_len=train_df[train_df['target']==1]['text'].str.len()\n",
        "ax2.hist(tweet_len,color='skyblue')\n",
        "ax2.set_title('Disaster tweets')\n",
        "fig.suptitle('Characters in tweets')\n",
        "plt.show()"
      ],
      "execution_count": 0,
      "outputs": [
        {
          "output_type": "display_data",
          "data": {
            "image/png": "[encoded data removed]",
            "text/plain": [
              "<Figure size 720x360 with 2 Axes>"
            ]
          },
          "metadata": {
            "tags": []
          }
        }
      ]
    },
    {
      "cell_type": "markdown",
      "metadata": {
        "id": "oRC8MWYYOGC1",
        "colab_type": "text"
      },
      "source": [
        "Conclusion: The distribution is almost the same, but there are more short non disaster tweets. But nothing really intresting can be found here.  "
      ]
    },
    {
      "cell_type": "markdown",
      "metadata": {
        "id": "SsqAqCpdMglA",
        "colab_type": "text"
      },
      "source": [
        "####**Number of words in tweets**\n"
      ]
    },
    {
      "cell_type": "code",
      "metadata": {
        "id": "3dJnYFwhMllO",
        "colab_type": "code",
        "outputId": "f8cd39e1-7bda-4442-d118-2f5619d36624",
        "colab": {
          "base_uri": "https://localhost:8080/"
        }
      },
      "source": [
        "fig,(ax1,ax2)=plt.subplots(1,2,figsize=(10,5))\n",
        "tweet_len=train_df[train_df['target']==0]['text'].str.split().map(lambda x: len(x))\n",
        "ax1.hist(tweet_len,color='pink')\n",
        "ax1.set_title('Not disaster tweets')\n",
        "tweet_len=train_df[train_df['target']==1]['text'].str.split().map(lambda x: len(x))\n",
        "ax2.hist(tweet_len,color='skyblue')\n",
        "ax2.set_title('Disaster tweets')\n",
        "fig.suptitle('Words in a tweet')\n",
        "plt.show()\n"
      ],
      "execution_count": 0,
      "outputs": [
        {
          "output_type": "display_data",
          "data": {
            "image/png": "[encoded data removed]",
            "text/plain": [
              "<Figure size 720x360 with 2 Axes>"
            ]
          },
          "metadata": {
            "tags": []
          }
        }
      ]
    },
    {
      "cell_type": "markdown",
      "metadata": {
        "id": "Vbbda-kNOhK8",
        "colab_type": "text"
      },
      "source": [
        "Conslusion: Same here, the distribution is very similar to the distribution of the characters. "
      ]
    },
    {
      "cell_type": "markdown",
      "metadata": {
        "id": "7JZkr42hOuzh",
        "colab_type": "text"
      },
      "source": [
        "####**Average word length in tweets**"
      ]
    },
    {
      "cell_type": "code",
      "metadata": {
        "id": "37oA2KfWO1yz",
        "colab_type": "code",
        "outputId": "2da5749d-3f2c-474e-938b-fa902a1885a2",
        "colab": {
          "base_uri": "https://localhost:8080/"
        }
      },
      "source": [
        "fig,(ax1,ax2)=plt.subplots(1,2,figsize=(10,5))\n",
        "word=train_df[train_df['target']==0]['text'].str.split().apply(lambda x : [len(i) for i in x])\n",
        "sns.distplot(word.map(lambda x: np.mean(x)),ax=ax1,color='pink')\n",
        "ax1.set_title('Not disaster')\n",
        "word=train_df[train_df['target']==1]['text'].str.split().apply(lambda x : [len(i) for i in x])\n",
        "sns.distplot(word.map(lambda x: np.mean(x)),ax=ax2,color='skyblue')\n",
        "ax2.set_title('Disaster')\n",
        "fig.suptitle('Average word length in each tweet')"
      ],
      "execution_count": 0,
      "outputs": [
        {
          "output_type": "execute_result",
          "data": {
            "text/plain": [
              "Text(0.5, 0.98, 'Average word length in each tweet')"
            ]
          },
          "metadata": {
            "tags": []
          },
          "execution_count": 59
        },
        {
          "output_type": "display_data",
          "data": {
            "image/png": "[encoded data removed]",
            "text/plain": [
              "<Figure size 720x360 with 2 Axes>"
            ]
          },
          "metadata": {
            "tags": []
          }
        }
      ]
    },
    {
      "cell_type": "markdown",
      "metadata": {
        "id": "op2A1h0BPj-I",
        "colab_type": "text"
      },
      "source": [
        "Conclusion: This follows from the grafs above. We have kind of the same average word length. "
      ]
    },
    {
      "cell_type": "markdown",
      "metadata": {
        "id": "uosLy8zURoO-",
        "colab_type": "text"
      },
      "source": [
        "####**Stopwords in tweets**"
      ]
    },
    {
      "cell_type": "code",
      "metadata": {
        "id": "kZPg1M0DRnd9",
        "colab_type": "code",
        "outputId": "c2a3dc03-40aa-4a66-f72b-7b56938fac65",
        "colab": {
          "base_uri": "https://localhost:8080/"
        }
      },
      "source": [
        "stop_words = set(stopwords.words('english')) \n",
        "dic_non_disasters = defaultdict(int)\n",
        "dic_disasters = defaultdict(int)\n",
        "\n",
        "for tweet in train_df[train_df['target']==0]['text'].str.split(): \n",
        "  for word in tweet:\n",
        "    if word in stop_words:\n",
        "      dic_non_disasters[word]+=1\n",
        "\n",
        "for tweet in train_df[train_df['target']==1]['text'].str.split(): \n",
        "  for word in tweet:\n",
        "    if word in stop_words:\n",
        "      dic_disasters[word]+=1\n",
        "\n",
        "top_non_disasters = sorted(dic_non_disasters.items(), key=lambda x:x[1],reverse=True)[:20] \n",
        "top_disasters = sorted(dic_disasters.items(), key=lambda x:x[1],reverse=True)[:20] \n",
        "top_non_disasters_dict = {}\n",
        "top_disasters_dict = {}\n",
        "\n",
        "for i in top_non_disasters:\n",
        "   top_non_disasters_dict[i[0]] = i[1]\n",
        "\n",
        "for i in top_disasters:\n",
        "   top_disasters_dict[i[0]] = i[1]\n",
        "\n",
        "\n",
        "from wordcloud import WordCloud\n",
        "\n",
        "fig,(ax1,ax2)=plt.subplots(1,2,figsize=(10,5))\n",
        "ax1.set_title('Not disaster')\n",
        "ax2.set_title('Disaster')\n",
        "\n",
        "x, y = np.ogrid[:300, :300]\n",
        "\n",
        "mask = (x - 150) ** 2 + (y - 150) ** 2 > 130 ** 2\n",
        "mask = 255 * mask.astype(int)\n",
        "\n",
        "wc_1 = WordCloud(background_color=\"white\", mask = mask, max_words=20,relative_scaling=0.5,normalize_plurals=False).generate_from_frequencies(top_non_disasters_dict)\n",
        "ax1.imshow(wc_1,interpolation='bilinear')\n",
        "ax1.axis(\"off\")\n",
        "\n",
        "wc_2 = WordCloud(background_color=\"white\", mask = mask, max_words=20,relative_scaling=0.5,normalize_plurals=False).generate_from_frequencies(top_disasters_dict)\n",
        "ax2.imshow(wc_2,interpolation='bilinear')\n",
        "ax2.axis(\"off\")\n",
        "\n",
        "plt.show()"
      ],
      "execution_count": 0,
      "outputs": [
        {
          "output_type": "display_data",
          "data": {
            "image/png": "[encoded data removed]",
            "text/plain": [
              "<Figure size 720x360 with 2 Axes>"
            ]
          },
          "metadata": {
            "tags": []
          }
        }
      ]
    },
    {
      "cell_type": "markdown",
      "metadata": {
        "id": "3Wqs7Ie0ix_p",
        "colab_type": "text"
      },
      "source": [
        "Conclusion: The most common word in both disaster and not disaster is 'the' followed by 'a' in not disaster and 'in' in disaster. The higher frequency of 'in' in the disaster tweets are interesting.   "
      ]
    },
    {
      "cell_type": "markdown",
      "metadata": {
        "id": "8uuY-RrwpAed",
        "colab_type": "text"
      },
      "source": [
        "####**Non stopwords in tweets**"
      ]
    },
    {
      "cell_type": "code",
      "metadata": {
        "colab_type": "code",
        "id": "secH6pvJ_OWD",
        "outputId": "42aad28d-e41e-4a0e-9060-653b90eab428",
        "colab": {
          "base_uri": "https://localhost:8080/"
        }
      },
      "source": [
        "stop_words = set(stopwords.words('english')) \n",
        "\n",
        "dic_non_disasters = defaultdict(int)\n",
        "dic_disasters = defaultdict(int)\n",
        "\n",
        "for tweet in train_df[train_df['target']==0]['text'].str.split(): \n",
        "  for word in tweet:\n",
        "    if word.lower() not in stop_words and word != \"'\":\n",
        "      dic_non_disasters[word]+=1\n",
        "\n",
        "for tweet in train_df[train_df['target']==1]['text'].str.split(): \n",
        "  for word in tweet:\n",
        "    if word.lower() not in stop_words and word != \"'\":\n",
        "      dic_disasters[word]+=1\n",
        "\n",
        "top_non_disasters = sorted(dic_non_disasters.items(), key=lambda x:x[1],reverse=True)[:20] \n",
        "top_disasters = sorted(dic_disasters.items(), key=lambda x:x[1],reverse=True)[:20] \n",
        "\n",
        "top_non_disasters_dict = {}\n",
        "top_disasters_dict = {}\n",
        "\n",
        "for i in top_non_disasters:\n",
        "   top_non_disasters_dict[i[0]] = i[1]\n",
        "\n",
        "for i in top_disasters:\n",
        "   top_disasters_dict[i[0]] = i[1]\n",
        "\n",
        "\n",
        "from wordcloud import WordCloud\n",
        "\n",
        "fig,(ax1,ax2)=plt.subplots(1,2,figsize=(10,5))\n",
        "ax1.set_title('Not disaster')\n",
        "ax2.set_title('Disaster')\n",
        "\n",
        "x, y = np.ogrid[:300, :300]\n",
        "\n",
        "mask = (x - 150) ** 2 + (y - 150) ** 2 > 130 ** 2\n",
        "mask = 255 * mask.astype(int)\n",
        "\n",
        "wc_1 = WordCloud(background_color=\"white\", mask = mask, max_words=20,relative_scaling=0.5,normalize_plurals=False).generate_from_frequencies(top_non_disasters_dict)\n",
        "ax1.imshow(wc_1,interpolation='bilinear')\n",
        "ax1.axis(\"off\")\n",
        "\n",
        "wc_2 = WordCloud(background_color=\"white\", mask = mask, max_words=20,relative_scaling=0.5,normalize_plurals=False).generate_from_frequencies(top_disasters_dict)\n",
        "ax2.imshow(wc_2,interpolation='bilinear')\n",
        "ax2.axis(\"off\")\n",
        "plt.show()"
      ],
      "execution_count": 0,
      "outputs": [
        {
          "output_type": "display_data",
          "data": {
            "image/png": "[encoded data removed]",
            "text/plain": [
              "<Figure size 720x360 with 2 Axes>"
            ]
          },
          "metadata": {
            "tags": []
          }
        }
      ]
    },
    {
      "cell_type": "markdown",
      "metadata": {
        "id": "SQm-LY3L6rAW",
        "colab_type": "text"
      },
      "source": [
        "Conclusion: When looking at this word cloud we see that we have lots of words that are not nice. Like ..., 2, ????. The conclusion is that we will need datacleaning. "
      ]
    },
    {
      "cell_type": "markdown",
      "metadata": {
        "id": "JKVUvGgAsafC",
        "colab_type": "text"
      },
      "source": [
        "####**2-gram analysis**"
      ]
    },
    {
      "cell_type": "markdown",
      "metadata": {
        "id": "Mxx0HMBzLEtD",
        "colab_type": "text"
      },
      "source": [
        "n-gram is a contiguous sequence of n items from a given sample of text or speech"
      ]
    },
    {
      "cell_type": "code",
      "metadata": {
        "id": "accG29zusoN7",
        "colab_type": "code",
        "outputId": "aa9cfede-289d-4e91-f9c2-b941c6ea76ee",
        "colab": {
          "base_uri": "https://localhost:8080/"
        }
      },
      "source": [
        "fig,(ax1,ax2)=plt.subplots(1,2,figsize=(10,5))\n",
        "\n",
        "ax1.set_title('Not disaster')\n",
        "ax2.set_title('Disaster')\n",
        "\n",
        "not_disaster_tweets=[]\n",
        "disaster_tweets=[]\n",
        "\n",
        "for x in train_df[train_df['target']==0]['text'].str.split():\n",
        "  for i in x:\n",
        "      not_disaster_tweets.append(i)\n",
        "\n",
        "for x in train_df[train_df['target']==1]['text'].str.split():\n",
        "    for i in x:\n",
        "        disaster_tweets.append(i)\n",
        "\n",
        "vec = CountVectorizer(ngram_range=(2, 2)).fit(not_disaster_tweets)\n",
        "bag_of_words = vec.transform(not_disaster_tweets)\n",
        "sum_words = bag_of_words.sum(axis=0) \n",
        "words_freq = [(word, sum_words[0, idx]) for word, idx in vec.vocabulary_.items()]\n",
        "words_freq =sorted(words_freq, key = lambda x: x[1], reverse=True)\n",
        "top_tweet_bigrams = words_freq[:10]\n",
        "\n",
        "x1,y1=map(list,zip(*top_tweet_bigrams))\n",
        "ax1.tick_params(labelrotation=90, axis='x')\n",
        "ax1.bar(x1, y1, color= \"pink\")\n",
        "\n",
        "\n",
        "vec = CountVectorizer(ngram_range=(2, 2)).fit(disaster_tweets)\n",
        "bag_of_words = vec.transform(disaster_tweets)\n",
        "sum_words = bag_of_words.sum(axis=0) \n",
        "words_freq = [(word, sum_words[0, idx]) for word, idx in vec.vocabulary_.items()]\n",
        "words_freq =sorted(words_freq, key = lambda x: x[1], reverse=True)\n",
        "top_tweet_bigrams = words_freq[:10]\n",
        "\n",
        "x2,y2=map(list,zip(*top_tweet_bigrams))\n",
        "ax2.tick_params(labelrotation=90, axis='x')\n",
        "ax2.bar(x2, y2, color= \"skyblue\")"
      ],
      "execution_count": 0,
      "outputs": [
        {
          "output_type": "execute_result",
          "data": {
            "text/plain": [
              "<BarContainer object of 10 artists>"
            ]
          },
          "metadata": {
            "tags": []
          },
          "execution_count": 62
        },
        {
          "output_type": "display_data",
          "data": {
            "image/png": "[encoded data removed]",
            "text/plain": [
              "<Figure size 720x360 with 2 Axes>"
            ]
          },
          "metadata": {
            "tags": []
          }
        }
      ]
    },
    {
      "cell_type": "markdown",
      "metadata": {
        "id": "6vgrzwoXLK7_",
        "colab_type": "text"
      },
      "source": [
        "Conclusion: After looking at these 2-grams we clearly see the need of data cleaning. This will there for be our next step in the project. "
      ]
    },
    {
      "cell_type": "markdown",
      "metadata": {
        "id": "3Pz2oSDFDqE5",
        "colab_type": "text"
      },
      "source": [
        "####**Feautures analyzis**"
      ]
    },
    {
      "cell_type": "code",
      "metadata": {
        "colab_type": "code",
        "id": "v8vZ_9ZGycSw",
        "outputId": "ab97fe1a-6621-4229-ea38-6cf247925910",
        "colab": {
          "base_uri": "https://localhost:8080/",
          "height": 320
        }
      },
      "source": [
        "missing_cols = ['keyword', 'location']\n",
        "\n",
        "fig, ax  = plt.subplots()\n",
        "\n",
        "sns.barplot(x=train_df[missing_cols].isnull().sum().index, y=train_df[missing_cols].isnull().sum().values, ax=ax, palette=['pink', 'skyblue'])\n",
        "\n",
        "ax.set_ylabel('Missing Value Count')\n",
        "ax.set_xticklabels([\"Keywords\",'Location'])\n",
        "ax.tick_params(axis='x', labelsize=15)\n",
        "ax.tick_params(axis='y', labelsize=15)\n",
        "ax.set_title('Training Set', fontsize=13)\n",
        "\n",
        "\n",
        "plt.show()\n",
        "\n",
        "print('Percentage of tweets missing location:',round(sum(train_df['location'].isnull())/len(train_df),2)*100,'%')\n",
        "print('Percentage of tweets missing keyword:',round(sum(train_df['keyword'].isnull())/len(train_df,),3)*100,'%')"
      ],
      "execution_count": 98,
      "outputs": [
        {
          "output_type": "display_data",
          "data": {
            "image/png": "[encoded data removed]",
            "text/plain": [
              "<Figure size 432x288 with 1 Axes>"
            ]
          },
          "metadata": {
            "tags": []
          }
        },
        {
          "output_type": "stream",
          "text": [
            "Percentage of tweets missing location: 33.0 %\n",
            "Percentage of tweets missing keyword: 0.8 %\n"
          ],
          "name": "stdout"
        }
      ]
    },
    {
      "cell_type": "code",
      "metadata": {
        "id": "JZwJ6qOV5xuv",
        "colab_type": "code",
        "outputId": "ea179547-6d5b-4577-ee40-4b1122207711",
        "colab": {
          "base_uri": "https://localhost:8080/"
        }
      },
      "source": [
        "print('Number of unique keywords in the dataset',train_df[\"keyword\"].nunique() )\n",
        "print('Number of unique locations in the dataset',train_df[\"location\"].nunique() )\n",
        "train_df.drop(columns=['location'])\n",
        "plt.show()"
      ],
      "execution_count": 0,
      "outputs": [
        {
          "output_type": "stream",
          "text": [
            "Number of unique keywords in the dataset 221\n",
            "Number of unique locations in the dataset 3341\n"
          ],
          "name": "stdout"
        }
      ]
    },
    {
      "cell_type": "markdown",
      "metadata": {
        "id": "I-j9k1UP1tNP",
        "colab_type": "text"
      },
      "source": [
        "Conclusion: Due to the high percentage of tweets missing location, we have dicided to drop that feature. Locations are not automatically generated, they are user inputs. That's why `location` is very dirty and there are too many unique values in it. It shouldn't be used as a feature. As we can se we have lots of unique locations, but the keywords are recurring. Therefore we have more proof of why we can drop location.  "
      ]
    },
    {
      "cell_type": "markdown",
      "metadata": {
        "id": "1DFB1l6NXUi1",
        "colab_type": "text"
      },
      "source": [
        "## **Data Cleaning**\n",
        "We will do basic data cleaning, such as spelling correction, removing punctuations, removing html tags and emojis. \n",
        "These can harm machine learning algorithms performance so therefore we will carefully get rid of them. "
      ]
    },
    {
      "cell_type": "markdown",
      "metadata": {
        "id": "bfqrHgXBnwMp",
        "colab_type": "text"
      },
      "source": [
        "###**Handling lowercase, and removing URL, html, emojis and punctation**"
      ]
    },
    {
      "cell_type": "code",
      "metadata": {
        "id": "2fflx4E7XshA",
        "colab_type": "code",
        "colab": {}
      },
      "source": [
        "spell = SpellChecker(distance = 1)\n",
        "def correct_spellings(text):\n",
        "    corrected_text = []\n",
        "    misspelled_words = spell.unknown(text.split())\n",
        "    for word in text.split():\n",
        "        if word in misspelled_words:\n",
        "            corrected_text.append(spell.correction(word))\n",
        "        else:\n",
        "            corrected_text.append(word)\n",
        "    return \" \".join(corrected_text)\n",
        "\n",
        "stopword = nltk.corpus.stopwords.words('english')\n",
        "def remove_stopwords(tokenized_list):\n",
        "  text = [word for word in tokenized_list if word not in stopword]\n",
        "  return text\n",
        "\n",
        "ps = nltk.PorterStemmer()\n",
        "def stemming(tokenized_text):\n",
        "  text = [ps.stem(word) for word in tokenized_text]\n",
        "  return text\n",
        "\n",
        "def pre_process(text):\n",
        "    pre_processed_text = text.lower()  # All lower case\n",
        "    pre_processed_text = re.sub(r'\\w+:\\/{2}[\\d\\w-]+(\\.[\\d\\w-]+)*(?:(?:\\/[^\\s/]*))*', '', pre_processed_text)  # Remove URL\n",
        "    pre_processed_text = re.sub(r'@\\w+', '', pre_processed_text)  # Remove mentions\n",
        "    pre_processed_text = re.sub('[^a-zA-Z\\s]', '', pre_processed_text)  # Remove punctuations\n",
        "    pre_processed_text = re.sub(r'\\s+', ' ', pre_processed_text, flags=re.I)  # Replace double spaces\n",
        "    pre_processed_text = correct_spellings(pre_processed_text)  # Spellcheck\n",
        "    pre_processed_text = re.split('\\W+', pre_processed_text)  # Tokenization\n",
        "    pre_processed_text = remove_stopwords(pre_processed_text)  # Remove stopwords\n",
        "    pre_processed_text = stemming(pre_processed_text)  # Apply stemming to reduce words to their root\n",
        "    \n",
        "    return pre_processed_text\n",
        "\n",
        "train_df['cleaned_text'] = train_df['text'].apply(lambda x : pre_process(x))"
      ],
      "execution_count": 0,
      "outputs": []
    },
    {
      "cell_type": "markdown",
      "metadata": {
        "id": "bli7_89GLLsC",
        "colab_type": "text"
      },
      "source": [
        "## **Classifiers**"
      ]
    },
    {
      "cell_type": "markdown",
      "metadata": {
        "id": "Lyx7DhKQG19E",
        "colab_type": "text"
      },
      "source": [
        "### **Classifiers using TF-IDF**"
      ]
    },
    {
      "cell_type": "markdown",
      "metadata": {
        "id": "jB380_xCP8iZ",
        "colab_type": "text"
      },
      "source": [
        "####**Creating TF-IDF**"
      ]
    },
    {
      "cell_type": "code",
      "metadata": {
        "id": "iS0ZsVASG-gj",
        "colab_type": "code",
        "colab": {}
      },
      "source": [
        "wordfreq = {}\n",
        "for idx in range(len(train_df['cleaned_text'])):\n",
        "  for word in train_df['cleaned_text'][idx]:\n",
        "    if train_df['target'][idx] == 0:\n",
        "      if word in wordfreq.keys():  # Penalty if the word is used in non-disaster tweets\n",
        "          wordfreq[word] -= 1\n",
        "    else:\n",
        "      if word not in wordfreq.keys():\n",
        "          wordfreq[word] = 1\n",
        "      else:\n",
        "          wordfreq[word] += 1\n",
        "\n",
        "# This following line takes out the 400 most frequent words and only calculates tf-idf scores for these.\n",
        "most_freq = heapq.nlargest(400, wordfreq, key=wordfreq.get)\n",
        "\n",
        "word_idf_values = {}\n",
        "for key in most_freq:\n",
        "\n",
        "    doc_containing_word = 0\n",
        "    for idx in range(len(train_df['cleaned_text'])):\n",
        "      if key in train_df['cleaned_text'][idx]:\n",
        "        doc_containing_word += 1\n",
        "    word_idf_values[key] = np.log(len(train_df['cleaned_text'])/(1 + doc_containing_word))\n",
        "\n",
        "word_tf_values = {}\n",
        "for key in most_freq:\n",
        "    sent_tf_vector = []\n",
        "    for idx in range(len(train_df['cleaned_text'])):\n",
        "        doc_freq = 0\n",
        "        for word in train_df['cleaned_text'][idx]:\n",
        "            if key == word:\n",
        "                  doc_freq += 1\n",
        "        word_tf = doc_freq/len(train_df['cleaned_text'])\n",
        "        sent_tf_vector.append(word_tf)\n",
        "    word_tf_values[key] = sent_tf_vector\n",
        "\n",
        "tfidf_values = []\n",
        "for key in word_tf_values.keys():\n",
        "    tfidf_sentences = []\n",
        "    for tf_sentence in word_tf_values[key]:\n",
        "        tf_idf_score = tf_sentence * word_idf_values[key]\n",
        "        tfidf_sentences.append(tf_idf_score)\n",
        "    tfidf_values.append(tfidf_sentences)\n",
        "\n",
        "tf_idf_model = np.asarray(tfidf_values)\n",
        "tf_idf_model = np.transpose(tf_idf_model)"
      ],
      "execution_count": 0,
      "outputs": []
    },
    {
      "cell_type": "markdown",
      "metadata": {
        "id": "5dc2szxKHGWY",
        "colab_type": "text"
      },
      "source": [
        "#### **Train Test Split**"
      ]
    },
    {
      "cell_type": "code",
      "metadata": {
        "id": "yy5pMzBhHIkf",
        "colab_type": "code",
        "colab": {}
      },
      "source": [
        "X_train_IDF, X_test_IDF, y_train_IDF, y_test_IDF = train_test_split(tf_idf_model, train_df['target'], test_size=0.25, random_state=2000)"
      ],
      "execution_count": 0,
      "outputs": []
    },
    {
      "cell_type": "markdown",
      "metadata": {
        "id": "NXA7G-PpHLVl",
        "colab_type": "text"
      },
      "source": [
        "#### **Random forest classifier using TF-IDF**"
      ]
    },
    {
      "cell_type": "code",
      "metadata": {
        "id": "dnSjgn8hHOFy",
        "colab_type": "code",
        "colab": {}
      },
      "source": [
        "text_classifier = RandomForestClassifier(n_estimators=100, random_state=0)  \n",
        "text_classifier.fit(X_train_IDF, y_train_IDF)\n",
        " \n",
        "forest_predictions = text_classifier.predict(X_test_IDF)\n",
        "forest_scores = cross_val_score(text_classifier, tf_idf_model, train_df['target'], cv=5)"
      ],
      "execution_count": 0,
      "outputs": []
    },
    {
      "cell_type": "markdown",
      "metadata": {
        "id": "sOHQ_GseHRAf",
        "colab_type": "text"
      },
      "source": [
        "#### **Gaussian Naive Bayes classifier using TF-IDF**"
      ]
    },
    {
      "cell_type": "code",
      "metadata": {
        "id": "4x38HM2WHUEm",
        "colab_type": "code",
        "colab": {}
      },
      "source": [
        "gnb = GaussianNB() \n",
        "gnb.fit(X_train_IDF, y_train_IDF) \n",
        "  \n",
        "gnb_predictions = gnb.predict(X_test_IDF) \n",
        "gnb_scores = cross_val_score(gnb, tf_idf_model, train_df['target'], cv=5)"
      ],
      "execution_count": 0,
      "outputs": []
    },
    {
      "cell_type": "markdown",
      "metadata": {
        "id": "8e1ko5_QwM5u",
        "colab_type": "text"
      },
      "source": [
        "#### **K-Nearest Neighbors using TF-IDF**"
      ]
    },
    {
      "cell_type": "code",
      "metadata": {
        "id": "-kR1OyzjeyfD",
        "colab_type": "code",
        "colab": {}
      },
      "source": [
        "training_accuracy = []\n",
        "test_accuracy = []\n",
        "\n",
        "neighbors_settings = range(1, 11)\n",
        "\n",
        "for n_neighbors in neighbors_settings: \n",
        "    clf = KNeighborsClassifier(n_neighbors=n_neighbors) \n",
        "    clf.fit(X_train_IDF, y_train_IDF)\n",
        "    training_accuracy.append(clf.score(X_train_IDF, y_train_IDF))\n",
        "    test_accuracy.append(clf.score(X_test_IDF, y_test_IDF))"
      ],
      "execution_count": 0,
      "outputs": []
    },
    {
      "cell_type": "markdown",
      "metadata": {
        "id": "0VMAX_5IfCR6",
        "colab_type": "text"
      },
      "source": [
        "### **Logistic Regression using Vectorizer**\n"
      ]
    },
    {
      "cell_type": "markdown",
      "metadata": {
        "id": "lA2KU146E2yw",
        "colab_type": "text"
      },
      "source": [
        "#### **From list to string**"
      ]
    },
    {
      "cell_type": "code",
      "metadata": {
        "id": "xGokwSFLIoGo",
        "colab_type": "code",
        "colab": {}
      },
      "source": [
        "train_df_listToString = []\n",
        "for i in range(len(train_df['cleaned_text'])):\n",
        "  train_df_listToString.append(train_df['cleaned_text'][i])\n",
        "\n",
        "for i in range(len(train_df_listToString)):\n",
        "  seperator = ' '\n",
        "  train_df_listToString[i] = seperator.join(train_df_listToString[i])\n",
        "\n",
        "CV = feature_extraction.text.CountVectorizer()\n",
        "train_df_vector = CV.fit_transform(train_df_listToString)"
      ],
      "execution_count": 0,
      "outputs": []
    },
    {
      "cell_type": "markdown",
      "metadata": {
        "id": "YeEdeCmcQQuG",
        "colab_type": "text"
      },
      "source": [
        "#####**Train Test Split**"
      ]
    },
    {
      "cell_type": "code",
      "metadata": {
        "id": "tsJDoHToQWFp",
        "colab_type": "code",
        "outputId": "9cbfd7c4-597d-4ad7-a8ea-d9ecca213c62",
        "colab": {
          "base_uri": "https://localhost:8080/",
          "height": 34
        }
      },
      "source": [
        "X_train_vct, X_test_vct, y_train_vct, y_test_vct = train_test_split(\n",
        "    train_df_vector, train_df[\"target\"], random_state=2000, shuffle=False, test_size=0.25)\n",
        "classifier_lr = LogisticRegression(max_iter = 200)\n",
        "classifier_lr.fit(X_train_vct, y_train_vct)\n",
        "y_pred_lr = classifier_lr.predict(X_test_vct)\n",
        "\n",
        "print('Logistic Regression Model Accuracy Score for Test Data set is {}'.format(classifier_lr.score(X_test_vct, y_test_vct)))"
      ],
      "execution_count": 0,
      "outputs": [
        {
          "output_type": "stream",
          "text": [
            "Logistic Regression Model Accuracy Score for Test Data set is 0.7494747899159664\n"
          ],
          "name": "stdout"
        }
      ]
    },
    {
      "cell_type": "markdown",
      "metadata": {
        "id": "QXBNjUhmpGVZ",
        "colab_type": "text"
      },
      "source": [
        "####**Logistic regression using cross validation**"
      ]
    },
    {
      "cell_type": "code",
      "metadata": {
        "id": "Shdk0zZmkhua",
        "colab_type": "code",
        "outputId": "33bff801-ba22-4361-ff81-376e2c74ed3a",
        "colab": {
          "base_uri": "https://localhost:8080/",
          "height": 51
        }
      },
      "source": [
        "clf = LogisticRegression(max_iter = 200)\n",
        "LR_scores = cross_val_score(clf, train_df_vector, train_df.target, cv=4)\n",
        "print(\"Cross-validation scores: {}\".format(LR_scores))\n",
        "print(\"Average cross-validation score: {:.2f}\".format(LR_scores.mean()))"
      ],
      "execution_count": 0,
      "outputs": [
        {
          "output_type": "stream",
          "text": [
            "Cross-validation scores: [0.71218487 0.68943773 0.67577509 0.74513925]\n",
            "Average cross-validation score: 0.71\n"
          ],
          "name": "stdout"
        }
      ]
    },
    {
      "cell_type": "markdown",
      "metadata": {
        "id": "x_LIk-egk0UK",
        "colab_type": "text"
      },
      "source": [
        "### **Naive Bayes on Meta features**"
      ]
    },
    {
      "cell_type": "markdown",
      "metadata": {
        "id": "dNw2NqVpEH60",
        "colab_type": "text"
      },
      "source": [
        "#### **Creating Meta features** "
      ]
    },
    {
      "cell_type": "markdown",
      "metadata": {
        "id": "tB76La9iEYLW",
        "colab_type": "text"
      },
      "source": [
        "Creating meta features on the text features that can be intresting to look at. "
      ]
    },
    {
      "cell_type": "code",
      "metadata": {
        "colab_type": "code",
        "id": "SUKRCc-eDx5g",
        "colab": {}
      },
      "source": [
        "# word_count\n",
        "\n",
        "train_df_NB = train_df\n",
        "\n",
        "train_df_NB['word_count'] = train_df_NB['text'].apply(lambda x: len(str(x).split()))\n",
        "\n",
        "# unique_word_count\n",
        "train_df_NB['unique_word_count'] = train_df_NB['text'].apply(lambda x: len(set(str(x).split())))\n",
        "\n",
        "# stop_word_count\n",
        "train_df_NB['stop_word_count'] = train_df_NB['text'].apply(lambda x: len([w for w in str(x).lower().split() if w in stop_words]))\n",
        "\n",
        "# url_count\n",
        "train_df_NB['url_count'] = train_df_NB['text'].apply(lambda x: len([w for w in str(x).lower().split() if 'http' in w or 'https' in w]))\n",
        "\n",
        "# mean_word_length\n",
        "train_df_NB['mean_word_length'] = train_df_NB['text'].apply(lambda x: np.mean([len(w) for w in str(x).split()]))\n",
        "\n",
        "# char_count\n",
        "train_df_NB['char_count'] = train_df_NB['text'].apply(lambda x: len(str(x)))\n",
        "\n",
        "# punctuation_count\n",
        "train_df_NB['punctuation_count'] = train_df_NB['text'].apply(lambda x: len([c for c in str(x) if c in string.punctuation]))\n",
        "\n",
        "# hashtag_count\n",
        "train_df_NB['hashtag_count'] = train_df_NB['text'].apply(lambda x: len([c for c in str(x) if c == '#']))\n",
        "\n",
        "# mention_count\n",
        "train_df_NB['mention_count'] = train_df_NB['text'].apply(lambda x: len([c for c in str(x) if c == '@']))"
      ],
      "execution_count": 0,
      "outputs": []
    },
    {
      "cell_type": "markdown",
      "metadata": {
        "id": "qy8Wo14PEuqr",
        "colab_type": "text"
      },
      "source": [
        "#### **Naive Bayes on Meta Features using train test split**"
      ]
    },
    {
      "cell_type": "code",
      "metadata": {
        "id": "B-kasiaUlbxK",
        "colab_type": "code",
        "outputId": "5ac86faa-3039-49d4-8a47-c3349a12c6d2",
        "colab": {
          "base_uri": "https://localhost:8080/",
          "height": 170
        }
      },
      "source": [
        "# Dropping all rows where keyword is NaN. \n",
        "bool_series_keyword = pd.isnull(train_df_NB['keyword']) \n",
        "train_df_NB=train_df_NB.drop(train_df_NB[bool_series_keyword].index,axis=0)\n",
        "train_df_NB=train_df_NB.reset_index(drop=True)\n",
        "\n",
        "columns_categorical = ['keyword']\n",
        "columns_numerical = ['word_count','unique_word_count','stop_word_count','url_count',\n",
        "                        'mean_word_length', 'char_count', 'punctuation_count', 'hashtag_count', 'mention_count']\n",
        "\n",
        "# we need to first encode the categorical columns\n",
        "data_train_encoded = pd.DataFrame()\n",
        "\n",
        "for col in columns_categorical:\n",
        "  # LabelEncoder transform labels to Array \n",
        "  LE = preprocessing.LabelEncoder()\n",
        "  # fit_transform fit label encoder and return encoded label \n",
        "  dt = LE.fit_transform(train_df_NB[col])\n",
        "  data_train_encoded[col] = dt\n",
        "\n",
        "# combine with the numerical columns\n",
        "for col in columns_numerical:\n",
        "  data_train_encoded[col] = train_df_NB[col]\n",
        "\n",
        "# add in the encoded class column\n",
        "\n",
        "data_train_encoded['target'] = train_df_NB['target']\n",
        "\n",
        "X_train_NB, X_test_NB, y_train_NB, y_test_NB = train_test_split(\n",
        "    data_train_encoded, train_df_NB['target'], random_state=2000, test_size=0.25)\n",
        "\n",
        "NaiveBayesModel = GaussianNB()\n",
        "NaiveBayesModel.fit(pd.DataFrame(X_train_NB, columns=columns_numerical),y_train_NB)\n",
        "log_p_num = NaiveBayesModel.predict_log_proba(pd.DataFrame(X_test_NB, columns=columns_numerical))\n",
        "\n",
        "\n",
        "NaiveBayesModel = CategoricalNB()\n",
        "NaiveBayesModel.fit(pd.DataFrame(X_train_NB, columns=columns_categorical), y_train_NB)\n",
        "log_p_cat = NaiveBayesModel.predict_log_proba(pd.DataFrame(X_test_NB, columns=columns_categorical))\n",
        "\n",
        "\n",
        "print(\"\\nThe performance of our Naive Bayes classifier for numerical class is:\")\n",
        "y_pred_class_num = np.argmax(log_p_num, axis=1)\n",
        "y_pred_sum_num = np.sum(y_pred_class_num==y_test_NB)/len(y_test_NB)\n",
        "print(np.round(y_pred_sum_num*100, 2), \"%\")\n",
        "\n",
        "\n",
        "print(\"\\nThe performance of our Naive Bayes classifier for categorical class is:\")\n",
        "y_pred_class_cat = np.argmax(log_p_cat, axis=1)\n",
        "y_pred_sum_cat = np.sum(y_pred_class_cat==y_test_NB)/len(y_test_NB)\n",
        "print(np.round(y_pred_sum_cat*100, 2), \"%\")\n",
        "\n",
        "log_p_NB = log_p_num + log_p_cat\n",
        "y_pred_NB = np.argmax(log_p_NB, axis=1)\n",
        "\n",
        "y_pred_sum_NB = np.sum(y_pred_NB==y_test_NB)/len(y_test_NB)\n",
        "\n",
        "print(\"\\nThe performance of our Naive Bayes classifier for both classes are:\")\n",
        "print(np.round(y_pred_sum_NB*100, 2), \"%\")\n"
      ],
      "execution_count": 0,
      "outputs": [
        {
          "output_type": "stream",
          "text": [
            "\n",
            "The performance of our Naive Bayes classifier for numerical class is:\n",
            "65.2 %\n",
            "\n",
            "The performance of our Naive Bayes classifier for categorical class is:\n",
            "71.93 %\n",
            "\n",
            "The performance of our Naive Bayes classifier for both classes are:\n",
            "73.25 %\n"
          ],
          "name": "stdout"
        }
      ]
    },
    {
      "cell_type": "markdown",
      "metadata": {
        "id": "DsWEmoz7FriN",
        "colab_type": "text"
      },
      "source": [
        "####**Feature selection on features**"
      ]
    },
    {
      "cell_type": "code",
      "metadata": {
        "id": "ZU3BgSRGFYmo",
        "colab_type": "code",
        "outputId": "d41b440a-90ba-4b4f-f14b-3e7729c00987",
        "colab": {
          "base_uri": "https://localhost:8080/",
          "height": 119
        }
      },
      "source": [
        "D = 5\n",
        "est = SelectKBest(chi2, k=D)\n",
        "X_new = est.fit_transform(data_train_encoded.drop('target', axis=1), data_train_encoded['target'])\n",
        "sup = est.get_support()\n",
        "featurenames = data_train_encoded.columns\n",
        "print('Features selected are:')\n",
        "best_features = []\n",
        "for i in np.where(sup)[0]:\n",
        "  print(featurenames[i])\n",
        "  best_features.append(featurenames[i])"
      ],
      "execution_count": 0,
      "outputs": [
        {
          "output_type": "stream",
          "text": [
            "Features selected are:\n",
            "keyword\n",
            "stop_word_count\n",
            "url_count\n",
            "char_count\n",
            "punctuation_count\n"
          ],
          "name": "stdout"
        }
      ]
    },
    {
      "cell_type": "markdown",
      "metadata": {
        "id": "89Dy_-4gGBZ-",
        "colab_type": "text"
      },
      "source": [
        "#### **Naive Bayes on selected features using train test split**"
      ]
    },
    {
      "cell_type": "code",
      "metadata": {
        "id": "iYZZ9dv2GKT9",
        "colab_type": "code",
        "outputId": "423869e2-d52f-4508-c373-a12197b13649",
        "colab": {
          "base_uri": "https://localhost:8080/",
          "height": 68
        }
      },
      "source": [
        "NaiveBayesModel = GaussianNB()\n",
        "NaiveBayesModel.fit(pd.DataFrame(X_train_NB, columns=best_features), y_train_NB)\n",
        "log_p_FS_num = NaiveBayesModel.predict_log_proba(pd.DataFrame(X_test_NB, columns=best_features))\n",
        "\n",
        "\n",
        "NaiveBayesModel = CategoricalNB()\n",
        "NaiveBayesModel.fit(pd.DataFrame(X_train_NB, columns=[\"keyword\"]), y_train_NB)\n",
        "log_p_FS_cat = NaiveBayesModel.predict_log_proba(pd.DataFrame(X_test_NB, columns= [\"keyword\"]))\n",
        "\n",
        "log_p_FS = log_p_FS_num + log_p_FS_cat\n",
        "y_pred_FS = np.argmax(log_p_FS, axis=1)\n",
        "y_pred_sum_FS = np.sum(y_pred_FS==y_test_NB)/len(y_test_NB)\n",
        "\n",
        "print()\n",
        "print(\"The performance of our Naive Bayes classifier with the 5 best features is:\")\n",
        "print(np.round(y_pred_sum_FS*100, 2), \"%\")\n"
      ],
      "execution_count": 0,
      "outputs": [
        {
          "output_type": "stream",
          "text": [
            "\n",
            "The performance of our Naive Bayes classifier with the 5 best features is:\n",
            "74.79 %\n"
          ],
          "name": "stdout"
        }
      ]
    },
    {
      "cell_type": "markdown",
      "metadata": {
        "id": "XXfMNCR-ShiI",
        "colab_type": "text"
      },
      "source": [
        "####**Naive Bayes on selected features using cross validation**"
      ]
    },
    {
      "cell_type": "code",
      "metadata": {
        "id": "MC96kuwACWvw",
        "colab_type": "code",
        "outputId": "4d4c51b7-8fd2-41cb-d9d5-ee26d251d7c6",
        "colab": {
          "base_uri": "https://localhost:8080/",
          "height": 102
        }
      },
      "source": [
        "clf = GaussianNB()\n",
        "scores = cross_val_score(clf, X_train_NB[best_features], y_train_NB, cv=5)\n",
        "\n",
        "clf = CategoricalNB()\n",
        "scores2 = cross_val_score(clf,X_train_NB[['keyword']], y_train_NB, cv = 5)\n",
        "\n",
        "print(\"Cross-validation scores: {}\".format(scores))\n",
        "print(\"Average cross-validation score on numerical: \",round(scores.mean(),2)*100, '%')\n",
        "print()\n",
        "\n",
        "print(\"Cross-validation scores: {}\".format(scores2))\n",
        "print(\"Average cross-validation score on categorical: \",round(scores2.mean(),2)*100, '%')\n"
      ],
      "execution_count": 0,
      "outputs": [
        {
          "output_type": "stream",
          "text": [
            "Cross-validation scores: [0.63106796 0.6266549  0.59929391 0.63901147 0.61130742]\n",
            "Average cross-validation score on numerical:  62.0 %\n",
            "\n",
            "Cross-validation scores: [0.74051192 0.73521624 0.72021183 0.74404237 0.71908127]\n",
            "Average cross-validation score on categorical:  73.0 %\n"
          ],
          "name": "stdout"
        }
      ]
    },
    {
      "cell_type": "markdown",
      "metadata": {
        "id": "KhMwu5HQnzXg",
        "colab_type": "text"
      },
      "source": [
        "## **Results**"
      ]
    },
    {
      "cell_type": "code",
      "metadata": {
        "id": "UlmeNr0Ewj6T",
        "colab_type": "code",
        "colab": {}
      },
      "source": [
        "def print_cm(cm, labels, hide_zeroes=False, hide_diagonal=False, hide_threshold=None):\n",
        "    \"\"\"pretty print for confusion matrixes\"\"\"\n",
        "    \"\"\"taken from https://gist.github.com/zachguo/10296432\"\"\"\n",
        "    columnwidth = max([len(x) for x in labels] + [5])  # 5 is value length\n",
        "    empty_cell = \" \" * columnwidth\n",
        "    \n",
        "    # Begin CHANGES\n",
        "    fst_empty_cell = (columnwidth-3)//2 * \" \" + \"t\\p\" + (columnwidth-3)//2 * \" \"\n",
        "    \n",
        "    if len(fst_empty_cell) < len(empty_cell):\n",
        "        fst_empty_cell = \" \" * (len(empty_cell) - len(fst_empty_cell)) + fst_empty_cell\n",
        "    # Print header\n",
        "    print(\"    \" + fst_empty_cell, end=\" \")\n",
        "    # End CHANGES\n",
        "    \n",
        "    for label in labels:\n",
        "        print(\"%{0}s\".format(columnwidth) % label, end=\" \")\n",
        "        \n",
        "    print()\n",
        "    # Print rows\n",
        "    for i, label1 in enumerate(labels):\n",
        "        print(\"    %{0}s\".format(columnwidth) % label1, end=\" \")\n",
        "        for j in range(len(labels)):\n",
        "            cell = \"%{0}.2f\".format(columnwidth) % cm[i, j]\n",
        "            if hide_zeroes:\n",
        "                cell = cell if float(cm[i, j]) != 0 else empty_cell\n",
        "            if hide_diagonal:\n",
        "                cell = cell if i != j else empty_cell\n",
        "            if hide_threshold:\n",
        "                cell = cell if cm[i, j] > hide_threshold else empty_cell\n",
        "            print(cell, end=\" \")\n",
        "        print()"
      ],
      "execution_count": 0,
      "outputs": []
    },
    {
      "cell_type": "markdown",
      "metadata": {
        "id": "tCiKbOdkn4aj",
        "colab_type": "text"
      },
      "source": [
        "### **Random Forest(TF-IDF)**"
      ]
    },
    {
      "cell_type": "code",
      "metadata": {
        "id": "7hyc0-QAo-7h",
        "colab_type": "code",
        "outputId": "18900700-3a31-4b98-f86c-adfb6416165c",
        "colab": {
          "base_uri": "https://localhost:8080/"
        }
      },
      "source": [
        "print(classification_report(y_test_IDF, forest_predictions))  \n",
        "print(\"Train split accuracy score: \", round(accuracy_score(y_test_IDF, forest_predictions),2))\n",
        "print(\"Cross-validation scores: {}\".format(forest_scores))\n",
        "print(\"Average cross-validation score: {:.2f}\".format(forest_scores.mean()))"
      ],
      "execution_count": 0,
      "outputs": [
        {
          "output_type": "stream",
          "text": [
            "              precision    recall  f1-score   support\n",
            "\n",
            "           0       0.75      0.89      0.82      1076\n",
            "           1       0.82      0.62      0.70       828\n",
            "\n",
            "    accuracy                           0.77      1904\n",
            "   macro avg       0.79      0.76      0.76      1904\n",
            "weighted avg       0.78      0.77      0.77      1904\n",
            "\n",
            "Train split accuracy score:  0.77\n",
            "Cross-validation scores: [0.70321733 0.64609324 0.70453053 0.69842313 0.77201051]\n",
            "Average cross-validation score: 0.70\n"
          ],
          "name": "stdout"
        }
      ]
    },
    {
      "cell_type": "markdown",
      "metadata": {
        "id": "-LkXYLuiHuTh",
        "colab_type": "text"
      },
      "source": [
        "#### **RF Confusion Matrix**"
      ]
    },
    {
      "cell_type": "code",
      "metadata": {
        "id": "wv_FJr20zTZr",
        "colab_type": "code",
        "outputId": "9525ac3d-3bf5-4b23-ab49-9cdcd8ee2026",
        "colab": {
          "base_uri": "https://localhost:8080/"
        }
      },
      "source": [
        "labels = ['Non-Disaster', 'Disaster']\n",
        "        \n",
        "print_cm(confusion_matrix(y_test_IDF, forest_predictions, normalize='true'), labels)"
      ],
      "execution_count": 0,
      "outputs": [
        {
          "output_type": "stream",
          "text": [
            "         t\\p     Non-Disaster     Disaster \n",
            "    Non-Disaster         0.89         0.11 \n",
            "        Disaster         0.38         0.62 \n"
          ],
          "name": "stdout"
        }
      ]
    },
    {
      "cell_type": "markdown",
      "metadata": {
        "id": "KwKGYSwPn7VX",
        "colab_type": "text"
      },
      "source": [
        "### **Gaussian Naive Bayes(TF-IDF)**"
      ]
    },
    {
      "cell_type": "code",
      "metadata": {
        "id": "LkWbdcIXo2bw",
        "colab_type": "code",
        "outputId": "8cf4a48c-3b8b-493c-b27d-c4f7a4258a8b",
        "colab": {
          "base_uri": "https://localhost:8080/"
        }
      },
      "source": [
        "print(classification_report(y_test_IDF, gnb_predictions))  \n",
        "print(\"Train split accuracy score: \", round(accuracy_score(y_test_IDF, gnb_predictions),2))\n",
        "\n",
        "print(\"Cross-validation scores: {}\".format(gnb_scores))\n",
        "print(\"Average cross-validation score: {:.2f}\".format(gnb_scores.mean()))"
      ],
      "execution_count": 0,
      "outputs": [
        {
          "output_type": "stream",
          "text": [
            "              precision    recall  f1-score   support\n",
            "\n",
            "           0       0.69      0.97      0.80      1076\n",
            "           1       0.92      0.42      0.58       828\n",
            "\n",
            "    accuracy                           0.73      1904\n",
            "   macro avg       0.80      0.70      0.69      1904\n",
            "weighted avg       0.79      0.73      0.70      1904\n",
            "\n",
            "Train split accuracy score:  0.73\n",
            "Cross-validation scores: [0.71897571 0.71306632 0.69468155 0.74244415 0.7457293 ]\n",
            "Average cross-validation score: 0.72\n"
          ],
          "name": "stdout"
        }
      ]
    },
    {
      "cell_type": "markdown",
      "metadata": {
        "id": "IHxlkDxPIIg-",
        "colab_type": "text"
      },
      "source": [
        "#### **GNB Confusion Matrix**"
      ]
    },
    {
      "cell_type": "code",
      "metadata": {
        "id": "ZoAJlqqmyRfX",
        "colab_type": "code",
        "outputId": "3fd3bba9-7978-47c8-a346-02b23a2b5b92",
        "colab": {
          "base_uri": "https://localhost:8080/"
        }
      },
      "source": [
        "labels = ['Non-Disaster', 'Disaster']\n",
        "        \n",
        "print_cm(confusion_matrix(y_test_IDF, gnb_predictions, normalize='true'), labels)"
      ],
      "execution_count": 0,
      "outputs": [
        {
          "output_type": "stream",
          "text": [
            "         t\\p     Non-Disaster     Disaster \n",
            "    Non-Disaster         0.97         0.03 \n",
            "        Disaster         0.58         0.42 \n"
          ],
          "name": "stdout"
        }
      ]
    },
    {
      "cell_type": "markdown",
      "metadata": {
        "id": "x1r9zoRxn_Vp",
        "colab_type": "text"
      },
      "source": [
        "### **K-Nearest Neighbors(TF-IDF)**"
      ]
    },
    {
      "cell_type": "code",
      "metadata": {
        "id": "GrDtF9mzonNx",
        "colab_type": "code",
        "outputId": "39d51bab-4f99-447a-da32-40a2affea6c1",
        "colab": {
          "base_uri": "https://localhost:8080/"
        }
      },
      "source": [
        "plt.figure(figsize=(12, 8))\n",
        "plt.plot(neighbors_settings, training_accuracy, label=\"training accuracy\")\n",
        "plt.plot(neighbors_settings, test_accuracy, label=\"test accuracy\")\n",
        "plt.ylabel(\"Accuracy\")\n",
        "plt.xlabel(\"n_neighbors\")\n",
        "plt.legend()\n",
        "\n",
        "clf = KNeighborsClassifier(n_neighbors=neighbors_settings[np.argmax(test_accuracy)])\n",
        "clf.fit(X_train_IDF, y_train_IDF) \n",
        "  \n",
        "clf_predictions = clf.predict(X_test_IDF) \n",
        "clf_scores = cross_val_score(clf, tf_idf_model, train_df.target,cv=5)\n",
        "\n",
        "print(\"The maximum accuracy of for the test set is achieved for k={}, so we would use this value\".format(neighbors_settings[np.argmax(test_accuracy)]))\n",
        "print(\"The train test split score is: \",round(test_accuracy[6],2))\n",
        "print(\"Cross-validation scores: {}\".format(clf_scores))\n",
        "print(\"Average cross-validation score: {:.2f}\".format(clf_scores.mean()))"
      ],
      "execution_count": 0,
      "outputs": [
        {
          "output_type": "stream",
          "text": [
            "The maximum accuracy of for the test set is achieved for k=5, so we would use this value\n",
            "The train test split score is:  0.71\n",
            "Cross-validation scores: [0.65265923 0.58634274 0.60210112 0.60315375 0.64520368]\n",
            "Average cross-validation score: 0.62\n"
          ],
          "name": "stdout"
        },
        {
          "output_type": "display_data",
          "data": {
            "image/png": "[encoded data removed]",
            "text/plain": [
              "<Figure size 864x576 with 1 Axes>"
            ]
          },
          "metadata": {
            "tags": []
          }
        }
      ]
    },
    {
      "cell_type": "markdown",
      "metadata": {
        "id": "lbm14tdvIUqj",
        "colab_type": "text"
      },
      "source": [
        "#### KNN Confusion Matrix"
      ]
    },
    {
      "cell_type": "code",
      "metadata": {
        "id": "kDel2UtyzmxN",
        "colab_type": "code",
        "outputId": "84a8a9de-b246-4262-f7cb-2904e999dda7",
        "colab": {
          "base_uri": "https://localhost:8080/"
        }
      },
      "source": [
        "labels = ['Non-Disaster', 'Disaster']\n",
        "print_cm(confusion_matrix(y_test_IDF, clf_predictions, normalize='true'), labels)"
      ],
      "execution_count": 0,
      "outputs": [
        {
          "output_type": "stream",
          "text": [
            "         t\\p     Non-Disaster     Disaster \n",
            "    Non-Disaster         0.92         0.08 \n",
            "        Disaster         0.52         0.48 \n"
          ],
          "name": "stdout"
        }
      ]
    },
    {
      "cell_type": "code",
      "metadata": {
        "id": "bndlhhvvEDNw",
        "colab_type": "code",
        "outputId": "50934627-29af-4445-92ad-05786979c194",
        "colab": {
          "base_uri": "https://localhost:8080/"
        }
      },
      "source": [
        "print(classification_report(y_test_IDF, clf_predictions))\n",
        "\n",
        "print('Logistic Regression Model Accuracy Score using test train split is {}'.format(round(classifier_lr.score(X_test_vct, y_test_vct),2)))\n",
        "print(\"Cross-validation scores: {}\".format(LR_scores))\n",
        "print(\"Average cross-validation score: {:.2f}\".format(LR_scores.mean()))  "
      ],
      "execution_count": 0,
      "outputs": [
        {
          "output_type": "stream",
          "text": [
            "              precision    recall  f1-score   support\n",
            "\n",
            "           0       0.70      0.92      0.79      1076\n",
            "           1       0.82      0.48      0.60       828\n",
            "\n",
            "    accuracy                           0.73      1904\n",
            "   macro avg       0.76      0.70      0.70      1904\n",
            "weighted avg       0.75      0.73      0.71      1904\n",
            "\n",
            "Logistic Regression Model Accuracy Score using test train split is 0.75\n",
            "Cross-validation scores: [0.71218487 0.68943773 0.67577509 0.74513925]\n",
            "Average cross-validation score: 0.71\n"
          ],
          "name": "stdout"
        }
      ]
    },
    {
      "cell_type": "markdown",
      "metadata": {
        "id": "nXWfFKLUoLGp",
        "colab_type": "text"
      },
      "source": [
        "### **Logistic Regression**"
      ]
    },
    {
      "cell_type": "code",
      "metadata": {
        "id": "femPFZbaowGQ",
        "colab_type": "code",
        "outputId": "c3652964-9c29-460e-a6f7-1e093d05ff46",
        "colab": {
          "base_uri": "https://localhost:8080/"
        }
      },
      "source": [
        "print(classification_report(y_test_vct, y_pred_lr))  \n",
        "\n",
        "print('Logistic Regression Model Accuracy Score using test train split is {}'.format(round(classifier_lr.score(X_test_vct, y_test_vct),2)))\n",
        "print(\"Cross-validation scores: {}\".format(LR_scores))\n",
        "print(\"Average cross-validation score: {:.2f}\".format(LR_scores.mean()))"
      ],
      "execution_count": 0,
      "outputs": [
        {
          "output_type": "stream",
          "text": [
            "              precision    recall  f1-score   support\n",
            "\n",
            "           0       0.72      0.88      0.80      1046\n",
            "           1       0.81      0.59      0.68       858\n",
            "\n",
            "    accuracy                           0.75      1904\n",
            "   macro avg       0.76      0.73      0.74      1904\n",
            "weighted avg       0.76      0.75      0.74      1904\n",
            "\n",
            "Logistic Regression Model Accuracy Score using test train split is 0.75\n",
            "Cross-validation scores: [0.71218487 0.68943773 0.67577509 0.74513925]\n",
            "Average cross-validation score: 0.71\n"
          ],
          "name": "stdout"
        }
      ]
    },
    {
      "cell_type": "markdown",
      "metadata": {
        "id": "aiQ0gihfIlLH",
        "colab_type": "text"
      },
      "source": [
        "#### LR Confusion Matrix"
      ]
    },
    {
      "cell_type": "code",
      "metadata": {
        "id": "aQQYPOL70-cM",
        "colab_type": "code",
        "outputId": "1bbb5171-4ec5-453d-ad5e-77a4beb42fbb",
        "colab": {
          "base_uri": "https://localhost:8080/"
        }
      },
      "source": [
        "labels = ['Non-Disaster', 'Disaster']\n",
        "        \n",
        "print_cm(confusion_matrix(y_test_vct, y_pred_lr, normalize='true'), labels)"
      ],
      "execution_count": 0,
      "outputs": [
        {
          "output_type": "stream",
          "text": [
            "         t\\p     Non-Disaster     Disaster \n",
            "    Non-Disaster         0.88         0.12 \n",
            "        Disaster         0.41         0.59 \n"
          ],
          "name": "stdout"
        }
      ]
    },
    {
      "cell_type": "markdown",
      "metadata": {
        "id": "r_gUjOSyYVVE",
        "colab_type": "text"
      },
      "source": [
        "###**Naive Bayes(Meta Features)**"
      ]
    },
    {
      "cell_type": "markdown",
      "metadata": {
        "id": "WNAIzBrKszsx",
        "colab_type": "text"
      },
      "source": [
        "####**Results for Naive Bayes using train test split:**"
      ]
    },
    {
      "cell_type": "code",
      "metadata": {
        "id": "lhC3FdkqZGp_",
        "colab_type": "code",
        "outputId": "9aad4f4d-ebba-4be4-bf72-da724bacaf9a",
        "colab": {
          "base_uri": "https://localhost:8080/",
          "height": 187
        }
      },
      "source": [
        "print_cm(confusion_matrix(y_test_NB, y_pred_NB, normalize='true'), labels)\n",
        "print(\"\\nThe performance of our Naive Bayes classifier for numerical class is:\",np.round(y_pred_sum_num*100, 2), \"%\")\n",
        "print(\"\\nThe performance of our Naive Bayes classifier for categorical class is:\",np.round(y_pred_sum_cat*100, 2), \"%\")\n",
        "print(\"\\nThe performance of our Naive Bayes classifier:\",np.round(y_pred_sum_NB*100, 1), \"%\\n\")\n",
        "\n",
        "labels = ['Non-Disaster', 'Disaster']"
      ],
      "execution_count": 0,
      "outputs": [
        {
          "output_type": "stream",
          "text": [
            "         t\\p     Non-Disaster     Disaster \n",
            "    Non-Disaster         0.78         0.22 \n",
            "        Disaster         0.33         0.67 \n",
            "\n",
            "The performance of our Naive Bayes classifier for numerical class is: 65.2 %\n",
            "\n",
            "The performance of our Naive Bayes classifier for categorical class is: 71.93 %\n",
            "\n",
            "The performance of our Naive Bayes classifier: 73.3 %\n",
            "\n"
          ],
          "name": "stdout"
        }
      ]
    },
    {
      "cell_type": "markdown",
      "metadata": {
        "id": "rl0smHA2s-fc",
        "colab_type": "text"
      },
      "source": [
        "####**Results for Naive Bayes on selected features using train test split:**"
      ]
    },
    {
      "cell_type": "code",
      "metadata": {
        "id": "jCeTnHgctMcw",
        "colab_type": "code",
        "outputId": "80c8f26f-e8db-4d58-dbdc-27ce4d9d8fee",
        "colab": {
          "base_uri": "https://localhost:8080/",
          "height": 102
        }
      },
      "source": [
        "print_cm(confusion_matrix(y_test_NB, y_pred_FS, normalize='true'), labels)\n",
        "print(\"\\nThe performance of our Naive Bayes classifier with the 5 best features is:\",np.round(y_pred_sum_FS*100, 1), \"%\")"
      ],
      "execution_count": 0,
      "outputs": [
        {
          "output_type": "stream",
          "text": [
            "         t\\p     Non-Disaster     Disaster \n",
            "    Non-Disaster         0.82         0.18 \n",
            "        Disaster         0.35         0.65 \n",
            "\n",
            "The performance of our Naive Bayes classifier with the 5 best features is: 74.8 %\n"
          ],
          "name": "stdout"
        }
      ]
    },
    {
      "cell_type": "markdown",
      "metadata": {
        "id": "NPTqHg6YtR4e",
        "colab_type": "text"
      },
      "source": [
        "####**Results for Naive Bayes on selected feauters using cross validation:**"
      ]
    },
    {
      "cell_type": "code",
      "metadata": {
        "id": "vchXj_urtgS7",
        "colab_type": "code",
        "outputId": "e2d8a649-0851-4ef0-be59-55bb83be352a",
        "colab": {
          "base_uri": "https://localhost:8080/",
          "height": 119
        }
      },
      "source": [
        "print(\"\\nCross-validation scores: {}\".format(scores))\n",
        "print(\"Average cross-validation score on numerical: \",round(scores.mean(),2)*100, '%')\n",
        "print()\n",
        "print(\"Cross-validation scores: {}\".format(scores2))\n",
        "print(\"Average cross-validation score on categorical: \",round(scores2.mean(),2)*100, '%')"
      ],
      "execution_count": 0,
      "outputs": [
        {
          "output_type": "stream",
          "text": [
            "\n",
            "Cross-validation scores: [0.63106796 0.6266549  0.59929391 0.63901147 0.61130742]\n",
            "Average cross-validation score on numerical:  62.0 %\n",
            "\n",
            "Cross-validation scores: [0.74051192 0.73521624 0.72021183 0.74404237 0.71908127]\n",
            "Average cross-validation score on categorical:  73.0 %\n"
          ],
          "name": "stdout"
        }
      ]
    },
    {
      "cell_type": "markdown",
      "metadata": {
        "id": "nQMLRVxhDHP1",
        "colab_type": "text"
      },
      "source": [
        "####Classification report for Naive Bayes "
      ]
    },
    {
      "cell_type": "code",
      "metadata": {
        "id": "8pkvuXE6CWZo",
        "colab_type": "code",
        "outputId": "beb69959-fe0a-453b-c13e-cf1ce16fa45c",
        "colab": {
          "base_uri": "https://localhost:8080/",
          "height": 374
        }
      },
      "source": [
        "print(\"Classification report, all features:\")\n",
        "print(classification_report(y_test_NB, y_pred_NB))  \n",
        "\n",
        "print()\n",
        "\n",
        "print(\"Classification report, feature selection:\")\n",
        "print(classification_report(y_test_NB, y_pred_FS))  "
      ],
      "execution_count": 0,
      "outputs": [
        {
          "output_type": "stream",
          "text": [
            "Classification report, all features:\n",
            "              precision    recall  f1-score   support\n",
            "\n",
            "           0       0.76      0.78      0.77      1091\n",
            "           1       0.69      0.67      0.68       797\n",
            "\n",
            "    accuracy                           0.73      1888\n",
            "   macro avg       0.73      0.72      0.72      1888\n",
            "weighted avg       0.73      0.73      0.73      1888\n",
            "\n",
            "\n",
            "Classification report, feature selection:\n",
            "              precision    recall  f1-score   support\n",
            "\n",
            "           0       0.76      0.82      0.79      1091\n",
            "           1       0.72      0.65      0.69       797\n",
            "\n",
            "    accuracy                           0.75      1888\n",
            "   macro avg       0.74      0.74      0.74      1888\n",
            "weighted avg       0.75      0.75      0.75      1888\n",
            "\n"
          ],
          "name": "stdout"
        }
      ]
    }
  ]
}